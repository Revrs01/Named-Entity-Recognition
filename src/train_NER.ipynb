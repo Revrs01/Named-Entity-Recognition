{
 "cells": [
  {
   "cell_type": "code",
   "execution_count": 1,
   "outputs": [],
   "source": [
    "ner_tag_decoder = {0: 'B-GPE', 1: 'I-GPE', 2: 'B-PER', 3: 'I-PER', 4: 'B-DATE', 5: 'I-DATE', 6: 'B-ORG', 7: 'I-ORG',\n",
    "                   8: 'B-CARDINAL', 9: 'I-CARDINAL', 10: 'B-NORP', 11: 'I-NORP', 12: 'B-LOC', 13: 'I-LOC', 14: 'B-TIME',\n",
    "                   15: 'I-TIME', 16: 'B-FAC', 17: 'I-FAC', 18: 'B-MONEY', 19: 'I-MONEY', 20: 'B-ORDINAL',\n",
    "                   21: 'I-ORDINAL', 22: 'B-EVENT', 23: 'I-EVENT', 24: 'B-WFA', 25: 'I-WFA', 26: 'B-QUANTITY',\n",
    "                   27: 'I-QUANTITY', 28: 'B-PERCENT', 29: 'I-PERCENT', 30: 'B-LANGUAGE', 31: 'I-LANGUAGE',\n",
    "                   32: 'B-PRODUCT', 33: 'I-PRODUCT', 34: 'B-LAW', 35: 'I-LAW', 36: 'O'}"
   ],
   "metadata": {
    "collapsed": false,
    "ExecuteTime": {
     "start_time": "2023-04-23T22:58:53.240204Z",
     "end_time": "2023-04-23T22:58:53.245931Z"
    }
   }
  },
  {
   "cell_type": "code",
   "execution_count": 2,
   "metadata": {
    "collapsed": true,
    "ExecuteTime": {
     "start_time": "2023-04-23T22:58:53.248410Z",
     "end_time": "2023-04-23T22:58:55.121807Z"
    }
   },
   "outputs": [],
   "source": [
    "import pandas\n",
    "\n",
    "data_token = pandas.read_csv('../Datasets/Train_data_ner_tags.csv')['Tokens'].tolist()\n",
    "ner_tag = pandas.read_csv('../Datasets/Train_data_ner_tags.csv')['NER_tag'].tolist()\n"
   ]
  },
  {
   "cell_type": "code",
   "execution_count": 3,
   "outputs": [
    {
     "data": {
      "text/plain": "\"\\nfor index in range(0, 8000):\\n    word_list = eval(data_token[index])\\n    tag_list = [ner_tag_decoder[i] for i in eval(ner_tag[index])]\\n    sentence_id_list = [index for i in range(len(word_list))]\\n\\n    dataframe = pandas.DataFrame({'words': word_list, 'labels': tag_list, 'sentence_id': sentence_id_list})\\n    dataframe.to_csv('../Datasets/conll_format_train.csv', mode='a', encoding='utf-8', header=False,\\n                     columns=dataframe.keys(), index=False, index_label=False)\\n    print(f'current at index {index}')\\n\""
     },
     "execution_count": 3,
     "metadata": {},
     "output_type": "execute_result"
    }
   ],
   "source": [
    "'''\n",
    "for index in range(0, 8000):\n",
    "    word_list = eval(data_token[index])\n",
    "    tag_list = [ner_tag_decoder[i] for i in eval(ner_tag[index])]\n",
    "    sentence_id_list = [index for i in range(len(word_list))]\n",
    "\n",
    "    dataframe = pandas.DataFrame({'words': word_list, 'labels': tag_list, 'sentence_id': sentence_id_list})\n",
    "    dataframe.to_csv('../Datasets/conll_format_train.csv', mode='a', encoding='utf-8', header=False,\n",
    "                     columns=dataframe.keys(), index=False, index_label=False)\n",
    "    print(f'current at index {index}')\n",
    "'''"
   ],
   "metadata": {
    "collapsed": false,
    "ExecuteTime": {
     "start_time": "2023-04-23T22:58:55.122769Z",
     "end_time": "2023-04-23T22:58:55.130419Z"
    }
   }
  },
  {
   "cell_type": "code",
   "execution_count": 4,
   "outputs": [],
   "source": [
    "train_df = pandas.read_csv('../Datasets/conll_format_train.csv')\n",
    "test_df = pandas.read_csv('../Datasets/conll_format_test.csv')"
   ],
   "metadata": {
    "collapsed": false,
    "ExecuteTime": {
     "start_time": "2023-04-23T22:58:55.131411Z",
     "end_time": "2023-04-23T22:58:56.258662Z"
    }
   }
  },
  {
   "cell_type": "code",
   "execution_count": 5,
   "outputs": [
    {
     "data": {
      "text/plain": "   Train  Test\n0   8000  1580",
      "text/html": "<div>\n<style scoped>\n    .dataframe tbody tr th:only-of-type {\n        vertical-align: middle;\n    }\n\n    .dataframe tbody tr th {\n        vertical-align: top;\n    }\n\n    .dataframe thead th {\n        text-align: right;\n    }\n</style>\n<table border=\"1\" class=\"dataframe\">\n  <thead>\n    <tr style=\"text-align: right;\">\n      <th></th>\n      <th>Train</th>\n      <th>Test</th>\n    </tr>\n  </thead>\n  <tbody>\n    <tr>\n      <th>0</th>\n      <td>8000</td>\n      <td>1580</td>\n    </tr>\n  </tbody>\n</table>\n</div>"
     },
     "execution_count": 5,
     "metadata": {},
     "output_type": "execute_result"
    }
   ],
   "source": [
    "data = [[train_df['sentence_id'].nunique(), test_df['sentence_id'].nunique()]]\n",
    "pandas.DataFrame(data, columns=['Train', 'Test'])"
   ],
   "metadata": {
    "collapsed": false,
    "ExecuteTime": {
     "start_time": "2023-04-23T22:58:56.257175Z",
     "end_time": "2023-04-23T22:58:56.312233Z"
    }
   }
  },
  {
   "cell_type": "code",
   "execution_count": 6,
   "outputs": [],
   "source": [
    "train_args = {\n",
    "    'reprocess_input_data': True,\n",
    "    'overwrite_output_dir': True,\n",
    "    'sliding_window': True,\n",
    "    'max_seq_length': 64,\n",
    "    'num_train_epochs': 5,\n",
    "    'train_batch_size': 32,\n",
    "    'fp16': True,\n",
    "    'output_dir': '/outputs/',\n",
    "}"
   ],
   "metadata": {
    "collapsed": false,
    "ExecuteTime": {
     "start_time": "2023-04-23T22:58:56.312729Z",
     "end_time": "2023-04-23T22:58:56.329965Z"
    }
   }
  },
  {
   "cell_type": "code",
   "execution_count": 7,
   "outputs": [
    {
     "data": {
      "text/plain": "['B-GPE',\n 'I-GPE',\n 'B-PER',\n 'I-PER',\n 'B-DATE',\n 'I-DATE',\n 'B-ORG',\n 'I-ORG',\n 'B-CARDINAL',\n 'I-CARDINAL',\n 'B-NORP',\n 'I-NORP',\n 'B-LOC',\n 'I-LOC',\n 'B-TIME',\n 'I-TIME',\n 'B-FAC',\n 'I-FAC',\n 'B-MONEY',\n 'I-MONEY',\n 'B-ORDINAL',\n 'I-ORDINAL',\n 'B-EVENT',\n 'I-EVENT',\n 'B-WFA',\n 'I-WFA',\n 'B-QUANTITY',\n 'I-QUANTITY',\n 'B-PERCENT',\n 'I-PERCENT',\n 'B-LANGUAGE',\n 'I-LANGUAGE',\n 'B-PRODUCT',\n 'I-PRODUCT',\n 'B-LAW',\n 'I-LAW',\n 'O']"
     },
     "execution_count": 7,
     "metadata": {},
     "output_type": "execute_result"
    }
   ],
   "source": [
    "custom_label = [i for i in ner_tag_decoder.values()]\n",
    "custom_label"
   ],
   "metadata": {
    "collapsed": false,
    "ExecuteTime": {
     "start_time": "2023-04-23T22:58:56.317678Z",
     "end_time": "2023-04-23T22:58:56.329965Z"
    }
   }
  },
  {
   "cell_type": "code",
   "execution_count": 8,
   "outputs": [
    {
     "name": "stderr",
     "output_type": "stream",
     "text": [
      "DEBUG:urllib3.connectionpool:Starting new HTTPS connection (1): huggingface.co:443\n",
      "DEBUG:urllib3.connectionpool:https://huggingface.co:443 \"HEAD /bert-base-chinese/resolve/main/tokenizer_config.json HTTP/1.1\" 200 0\n",
      "DEBUG:urllib3.connectionpool:Starting new HTTPS connection (1): huggingface.co:443\n",
      "DEBUG:urllib3.connectionpool:https://huggingface.co:443 \"HEAD /bert-base-chinese/resolve/main/config.json HTTP/1.1\" 200 0\n",
      "Some weights of the model checkpoint at bert-base-chinese were not used when initializing BertForTokenClassification: ['cls.predictions.bias', 'cls.seq_relationship.bias', 'cls.predictions.transform.dense.weight', 'cls.predictions.transform.LayerNorm.weight', 'cls.seq_relationship.weight', 'cls.predictions.decoder.weight', 'cls.predictions.transform.LayerNorm.bias', 'cls.predictions.transform.dense.bias']\n",
      "- This IS expected if you are initializing BertForTokenClassification from the checkpoint of a model trained on another task or with another architecture (e.g. initializing a BertForSequenceClassification model from a BertForPreTraining model).\n",
      "- This IS NOT expected if you are initializing BertForTokenClassification from the checkpoint of a model that you expect to be exactly identical (initializing a BertForSequenceClassification model from a BertForSequenceClassification model).\n",
      "Some weights of BertForTokenClassification were not initialized from the model checkpoint at bert-base-chinese and are newly initialized: ['classifier.weight', 'classifier.bias']\n",
      "You should probably TRAIN this model on a down-stream task to be able to use it for predictions and inference.\n",
      "DEBUG:urllib3.connectionpool:Starting new HTTPS connection (1): huggingface.co:443\n",
      "DEBUG:urllib3.connectionpool:https://huggingface.co:443 \"HEAD /bert-base-chinese/resolve/main/vocab.txt HTTP/1.1\" 200 0\n"
     ]
    }
   ],
   "source": [
    "from simpletransformers.ner import NERModel\n",
    "from transformers import AutoTokenizer\n",
    "import logging\n",
    "\n",
    "logging.basicConfig(level=logging.DEBUG)\n",
    "transformers_logger = logging.getLogger('transformers')\n",
    "transformers_logger.setLevel(logging.WARNING)\n",
    "\n",
    "# We use the bert base cased pre-trained model.\n",
    "tokenizer = AutoTokenizer.from_pretrained('bert-base-chinese')\n",
    "model = NERModel('bert', 'bert-base-chinese', args=train_args, labels=custom_label, use_cuda=True, cuda_device=0)\n"
   ],
   "metadata": {
    "collapsed": false,
    "ExecuteTime": {
     "start_time": "2023-04-23T22:58:56.325007Z",
     "end_time": "2023-04-23T22:59:02.919182Z"
    }
   }
  },
  {
   "cell_type": "code",
   "execution_count": 9,
   "outputs": [
    {
     "name": "stderr",
     "output_type": "stream",
     "text": [
      "INFO:simpletransformers.ner.ner_model: Converting to features started.\n"
     ]
    },
    {
     "data": {
      "text/plain": "  0%|          | 0/16 [00:00<?, ?it/s]",
      "application/vnd.jupyter.widget-view+json": {
       "version_major": 2,
       "version_minor": 0,
       "model_id": "4a9fbe52f33442f9910a9b8b3f78c666"
      }
     },
     "metadata": {},
     "output_type": "display_data"
    },
    {
     "data": {
      "text/plain": "Epoch:   0%|          | 0/5 [00:00<?, ?it/s]",
      "application/vnd.jupyter.widget-view+json": {
       "version_major": 2,
       "version_minor": 0,
       "model_id": "04a7af2ce3d6497fa9bfc3ecce5c42ff"
      }
     },
     "metadata": {},
     "output_type": "display_data"
    },
    {
     "data": {
      "text/plain": "Running Epoch 0 of 5:   0%|          | 0/250 [00:00<?, ?it/s]",
      "application/vnd.jupyter.widget-view+json": {
       "version_major": 2,
       "version_minor": 0,
       "model_id": "ea959e3d42fc408c933ca76d68e578ea"
      }
     },
     "metadata": {},
     "output_type": "display_data"
    },
    {
     "name": "stderr",
     "output_type": "stream",
     "text": [
      "C:\\Users\\asdf5\\Desktop\\Named-Entity-Recognition\\venv\\Lib\\site-packages\\torch\\optim\\lr_scheduler.py:139: UserWarning: Detected call of `lr_scheduler.step()` before `optimizer.step()`. In PyTorch 1.1.0 and later, you should call them in the opposite order: `optimizer.step()` before `lr_scheduler.step()`.  Failure to do this will result in PyTorch skipping the first value of the learning rate schedule. See more details at https://pytorch.org/docs/stable/optim.html#how-to-adjust-learning-rate\n",
      "  warnings.warn(\"Detected call of `lr_scheduler.step()` before `optimizer.step()`. \"\n"
     ]
    },
    {
     "data": {
      "text/plain": "Running Epoch 1 of 5:   0%|          | 0/250 [00:00<?, ?it/s]",
      "application/vnd.jupyter.widget-view+json": {
       "version_major": 2,
       "version_minor": 0,
       "model_id": "fd5b1346b09c4daf86e6753faa8c02a0"
      }
     },
     "metadata": {},
     "output_type": "display_data"
    },
    {
     "data": {
      "text/plain": "Running Epoch 2 of 5:   0%|          | 0/250 [00:00<?, ?it/s]",
      "application/vnd.jupyter.widget-view+json": {
       "version_major": 2,
       "version_minor": 0,
       "model_id": "e3619bda51dd43f6865005dc2247eda0"
      }
     },
     "metadata": {},
     "output_type": "display_data"
    },
    {
     "data": {
      "text/plain": "Running Epoch 3 of 5:   0%|          | 0/250 [00:00<?, ?it/s]",
      "application/vnd.jupyter.widget-view+json": {
       "version_major": 2,
       "version_minor": 0,
       "model_id": "e6fb0de52d7d40c3b1d2cb7f2b752d32"
      }
     },
     "metadata": {},
     "output_type": "display_data"
    },
    {
     "data": {
      "text/plain": "Running Epoch 4 of 5:   0%|          | 0/250 [00:00<?, ?it/s]",
      "application/vnd.jupyter.widget-view+json": {
       "version_major": 2,
       "version_minor": 0,
       "model_id": "ac4402d8489346cc97eb5883e2cd6e56"
      }
     },
     "metadata": {},
     "output_type": "display_data"
    },
    {
     "name": "stderr",
     "output_type": "stream",
     "text": [
      "INFO:simpletransformers.ner.ner_model: Training of bert model complete. Saved to ./model_output.\n"
     ]
    },
    {
     "data": {
      "text/plain": "(1250, 0.15703565955460072)"
     },
     "execution_count": 9,
     "metadata": {},
     "output_type": "execute_result"
    }
   ],
   "source": [
    "model.train_model(train_df, output_dir='./model_output')"
   ],
   "metadata": {
    "collapsed": false,
    "ExecuteTime": {
     "start_time": "2023-04-23T22:59:02.919182Z",
     "end_time": "2023-04-23T23:15:46.806437Z"
    }
   }
  },
  {
   "cell_type": "code",
   "execution_count": 10,
   "outputs": [
    {
     "name": "stderr",
     "output_type": "stream",
     "text": [
      "INFO:simpletransformers.ner.ner_model: Converting to features started.\n"
     ]
    },
    {
     "data": {
      "text/plain": "  0%|          | 0/4 [00:00<?, ?it/s]",
      "application/vnd.jupyter.widget-view+json": {
       "version_major": 2,
       "version_minor": 0,
       "model_id": "596942c967f64427a1267712c182c522"
      }
     },
     "metadata": {},
     "output_type": "display_data"
    },
    {
     "data": {
      "text/plain": "Running Evaluation:   0%|          | 0/198 [00:00<?, ?it/s]",
      "application/vnd.jupyter.widget-view+json": {
       "version_major": 2,
       "version_minor": 0,
       "model_id": "41167045f6ba4f87b725c677b4e5ffa9"
      }
     },
     "metadata": {},
     "output_type": "display_data"
    },
    {
     "name": "stderr",
     "output_type": "stream",
     "text": [
      "INFO:simpletransformers.ner.ner_model:{'eval_loss': 0.13479025955453064, 'precision': 0.6974911547121261, 'recall': 0.7950504124656279, 'f1_score': 0.7430823267369142}\n"
     ]
    }
   ],
   "source": [
    "result, model_outputs, preds_list = model.eval_model(test_df)"
   ],
   "metadata": {
    "collapsed": false,
    "ExecuteTime": {
     "start_time": "2023-04-23T23:15:46.808915Z",
     "end_time": "2023-04-23T23:16:19.179140Z"
    }
   }
  },
  {
   "cell_type": "code",
   "execution_count": 19,
   "outputs": [
    {
     "name": "stderr",
     "output_type": "stream",
     "text": [
      "INFO:simpletransformers.ner.ner_model: Converting to features started.\n"
     ]
    },
    {
     "data": {
      "text/plain": "  0%|          | 0/1 [00:00<?, ?it/s]",
      "application/vnd.jupyter.widget-view+json": {
       "version_major": 2,
       "version_minor": 0,
       "model_id": "2a460d8aae3d4fd4a027b3ebae263620"
      }
     },
     "metadata": {},
     "output_type": "display_data"
    },
    {
     "data": {
      "text/plain": "Running Prediction:   0%|          | 0/1 [00:00<?, ?it/s]",
      "application/vnd.jupyter.widget-view+json": {
       "version_major": 2,
       "version_minor": 0,
       "model_id": "dc7ef30882504f768b7a37903e50a040"
      }
     },
     "metadata": {},
     "output_type": "display_data"
    },
    {
     "name": "stdout",
     "output_type": "stream",
     "text": [
      "0: \n",
      "{'我': 'O'}\n",
      "{'住': 'O'}\n",
      "{'在': 'O'}\n",
      "{'雲': 'O'}\n",
      "{'林': 'O'}\n",
      "{'，': 'O'}\n",
      "{'這': 'O'}\n",
      "{'很': 'O'}\n",
      "{'可': 'O'}\n",
      "{'以': 'O'}\n"
     ]
    }
   ],
   "source": [
    "samples = ['我 住 在 雲 林 ， 這 很 可 以']\n",
    "predictions, _ = model.predict(samples)\n",
    "for idx, sample in enumerate(samples):\n",
    "    print('{}: '.format(idx))\n",
    "    for word in predictions[idx]:\n",
    "        print('{}'.format(word))"
   ],
   "metadata": {
    "collapsed": false,
    "ExecuteTime": {
     "start_time": "2023-04-23T23:23:49.411990Z",
     "end_time": "2023-04-23T23:23:54.679593Z"
    }
   }
  },
  {
   "cell_type": "code",
   "execution_count": 11,
   "outputs": [],
   "source": [],
   "metadata": {
    "collapsed": false
   }
  }
 ],
 "metadata": {
  "kernelspec": {
   "display_name": "Python 3",
   "language": "python",
   "name": "python3"
  },
  "language_info": {
   "codemirror_mode": {
    "name": "ipython",
    "version": 2
   },
   "file_extension": ".py",
   "mimetype": "text/x-python",
   "name": "python",
   "nbconvert_exporter": "python",
   "pygments_lexer": "ipython2",
   "version": "2.7.6"
  }
 },
 "nbformat": 4,
 "nbformat_minor": 0
}
