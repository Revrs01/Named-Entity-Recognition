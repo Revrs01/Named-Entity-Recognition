{
 "cells": [
  {
   "cell_type": "code",
   "execution_count": 1,
   "outputs": [],
   "source": [
    "import pandas as pd\n",
    "\n",
    "def read_conll(filename):\n",
    "    df = pd.read_csv(filename,\n",
    "                     sep='\\t', header=None, keep_default_na=False,\n",
    "                     names=['words', 'labels'], skip_blank_lines=False)\n",
    "    df['sentence_id'] = (df.words == '').cumsum()\n",
    "    return df[df.words != '']"
   ],
   "metadata": {
    "collapsed": false,
    "ExecuteTime": {
     "end_time": "2023-06-04T14:07:12.184277500Z",
     "start_time": "2023-06-04T14:07:11.946265300Z"
    }
   }
  },
  {
   "cell_type": "code",
   "execution_count": 2,
   "outputs": [],
   "source": [
    "train_data = pd.read_csv('../Datasets/final_version_dataset/train_data.csv')\n",
    "test_data = read_conll('../Datasets/final_version_dataset/test_data.txt')"
   ],
   "metadata": {
    "collapsed": false,
    "ExecuteTime": {
     "end_time": "2023-06-04T14:07:12.768414200Z",
     "start_time": "2023-06-04T14:07:12.179794300Z"
    }
   }
  },
  {
   "cell_type": "code",
   "execution_count": 3,
   "outputs": [],
   "source": [
    "def ner_id2tag(id):\n",
    "    id_map = {\n",
    "        0: 'O',\n",
    "        1: 'B-PER',\n",
    "        2: 'I-PER',\n",
    "        3: 'B-ORG',\n",
    "        4: 'I-ORG',\n",
    "        5: 'B-LOC',\n",
    "        6: 'I-LOC',\n",
    "    }\n",
    "\n",
    "    return id_map[id]"
   ],
   "metadata": {
    "collapsed": false,
    "ExecuteTime": {
     "end_time": "2023-06-04T14:07:12.771437100Z",
     "start_time": "2023-06-04T14:07:12.769415500Z"
    }
   }
  },
  {
   "cell_type": "code",
   "execution_count": 4,
   "outputs": [],
   "source": [
    "def convert_to_conll_format(csv_file):\n",
    "    dataframe = pd.read_csv(csv_file)\n",
    "    id = dataframe['id']\n",
    "    tokens = dataframe['tokens']\n",
    "    ner_tags = dataframe['ner_tags']\n",
    "\n",
    "    for i in range(17544, len(id)):\n",
    "        for index in range(len(eval(tokens[i])[0])):\n",
    "            output = pd.DataFrame({'words': [eval(tokens[i])[0][index]],\n",
    "                                   'labels': [ner_id2tag(eval(ner_tags[i].replace(' ', ','))[index])],\n",
    "                                   'sentence_id': [i+46364]})\n",
    "\n",
    "            output.to_csv('../Datasets/msra_dataset/conll_msra_train.csv', mode='a', header=False,\n",
    "                          columns=output.keys(), index=False, encoding='utf-8', index_label=False)\n",
    "        if not (i % 100):\n",
    "            print(f'current at index {i}')"
   ],
   "metadata": {
    "collapsed": false,
    "ExecuteTime": {
     "end_time": "2023-06-04T14:07:12.776479500Z",
     "start_time": "2023-06-04T14:07:12.773444300Z"
    }
   }
  },
  {
   "cell_type": "code",
   "execution_count": null,
   "outputs": [],
   "source": [
    "data = [[train_data['sentence_id'].nunique(), test_data['sentence_id'].nunique()]]\n",
    "pd.DataFrame(data, columns=[\"Train\", \"Test\"])"
   ],
   "metadata": {
    "collapsed": false
   }
  },
  {
   "cell_type": "code",
   "execution_count": 6,
   "outputs": [],
   "source": [
    "train_args = {\n",
    "    'reprocess_input_data': True,\n",
    "    'overwrite_output_dir': True,\n",
    "    'sliding_window': True,\n",
    "    'max_seq_length': 64,\n",
    "    'num_train_epochs': 15,\n",
    "    'train_batch_size': 32,\n",
    "    'fp16': True,\n",
    "    'output_dir': '/outputs/',\n",
    "}"
   ],
   "metadata": {
    "collapsed": false,
    "ExecuteTime": {
     "end_time": "2023-06-04T14:07:12.808400900Z",
     "start_time": "2023-06-04T14:07:12.803005400Z"
    }
   }
  },
  {
   "cell_type": "code",
   "execution_count": 7,
   "outputs": [],
   "source": [
    "custom_label = ['B-GPE','I-GPE','B-PER','I-PER','B-DATE','I-DATE','B-ORG','I-ORG','B-CARDINAL','I-CARDINAL','B-NORP','I-NORP','B-LOC','I-LOC','B-TIME','I-TIME','B-FAC','I-FAC','B-MONEY','I-MONEY','B-ORDINAL','I-ORDINAL','B-EVENT','I-EVENT','B-WFA','I-WFA','B-QUANTITY','I-QUANTITY','B-PERCENT','I-PERCENT','B-LANGUAGE','I-LANGUAGE','B-PRODUCT','I-PRODUCT','B-LAW','I-LAW','O']"
   ],
   "metadata": {
    "collapsed": false,
    "ExecuteTime": {
     "end_time": "2023-06-04T14:07:12.808400900Z",
     "start_time": "2023-06-04T14:07:12.806088800Z"
    }
   }
  },
  {
   "cell_type": "code",
   "execution_count": null,
   "outputs": [],
   "source": [
    "from simpletransformers.ner import NERModel\n",
    "from transformers import AutoTokenizer\n",
    "import pandas as pd\n",
    "import logging\n",
    "\n",
    "logging.basicConfig(level=logging.DEBUG)\n",
    "transformers_logger = logging.getLogger('transformers')\n",
    "transformers_logger.setLevel(logging.WARNING)\n",
    "\n",
    "# We use the bert base cased pre-trained model.\n",
    "tokenizer = AutoTokenizer.from_pretrained('bert-base-chinese')\n",
    "model = NERModel('bert', '../model_output/checkpoint-35835-epoch-15', args=train_args)\n",
    "\n",
    "# Train the model, there is no development or validation set for this dataset\n",
    "# https://simpletransformers.ai/docs/tips-and-tricks/#using-early-stopping\n",
    "\n",
    "#model.train_model(train_data, output_dir='../model_output')\n",
    "\n",
    "# Evaluate the model in terms of accuracy score\n",
    "result, model_outputs, preds_list = model.eval_model(test_data)"
   ],
   "metadata": {
    "collapsed": false
   }
  },
  {
   "cell_type": "code",
   "execution_count": null,
   "outputs": [],
   "source": [
    "strs = \"\"\"曾有兩次酒駕紀錄的台北市66歲張姓計程車司機開車時沒繫安全帶，被員警發現後上前攔停，但張男不但沒有配合受檢，反而腳踩油門加速逃逸，瘋狂闖紅燈逃逸，最後又棄車徒步逃逸。員警通報線上警網攔截圍捕，在捷運善導寺站4號出口處將張姓運將攔下，經酒測0.7毫克嚴重超標，全案依公共危險罪嫌移送台北地檢署偵辦。另外，依據《道路交通管理處罰條例》新規定，張男遭撤銷執業登記，要等12年才能再次開車謀生。轄區中正一分局介壽派出所員警上月20日凌晨12點巡邏時，見計程車駕駛駕車未繫安全帶，便鳴笛示意駕駛靠邊停車，但張男完全不理會警方攔查，從衡陽路右轉中華路，之後連闖3個紅燈，在大街小巷亂竄，企圖擺脫員警追緝。員警尾隨在後，擔心強硬追車恐造成其他用路人危險，先停車通報線上警網實施攔截圍捕。此時張男逆向闖入忠孝西路巷弄內行駛約5公尺並趁機關閉大燈，最後將計程車停在青島東路路邊停車格後，與同車友人裝沒事下車步行逃跑。\"\"\"\n",
    "samples = strs.split('。')\n",
    "predictions, _ = model.predict(samples, split_on_space=False)\n",
    "for idx, sample in enumerate(samples):\n",
    "    print('{}: '.format(idx))\n",
    "    for word in predictions[idx]:\n",
    "        print('{}'.format(word))"
   ],
   "metadata": {
    "collapsed": false
   }
  },
  {
   "cell_type": "code",
   "execution_count": 9,
   "outputs": [],
   "source": [],
   "metadata": {
    "collapsed": false,
    "ExecuteTime": {
     "end_time": "2023-06-04T14:07:33.373285600Z",
     "start_time": "2023-06-04T14:07:33.371666200Z"
    }
   }
  }
 ],
 "metadata": {
  "kernelspec": {
   "display_name": "Python 3",
   "language": "python",
   "name": "python3"
  },
  "language_info": {
   "codemirror_mode": {
    "name": "ipython",
    "version": 2
   },
   "file_extension": ".py",
   "mimetype": "text/x-python",
   "name": "python",
   "nbconvert_exporter": "python",
   "pygments_lexer": "ipython2",
   "version": "2.7.6"
  }
 },
 "nbformat": 4,
 "nbformat_minor": 0
}
