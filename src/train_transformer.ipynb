{
 "cells": [
  {
   "cell_type": "code",
   "execution_count": 1,
   "outputs": [],
   "source": [
    "import pandas as pd\n",
    "from simpletransformers.ner import NERModel\n",
    "from transformers import AutoTokenizer\n",
    "import logging"
   ],
   "metadata": {
    "collapsed": false,
    "ExecuteTime": {
     "end_time": "2023-06-17T07:47:46.316015900Z",
     "start_time": "2023-06-17T07:47:43.735061100Z"
    }
   }
  },
  {
   "cell_type": "code",
   "execution_count": 2,
   "outputs": [],
   "source": [
    "# convert txt train & test dataset to conll format dataset\n",
    "def txt_convert_conll_format(filename):\n",
    "    df = pd.read_csv(filename,\n",
    "                     sep='\\t', header=None, keep_default_na=False,\n",
    "                     names=['words', 'labels'], skip_blank_lines=False)\n",
    "    df['sentence_id'] = (df.words == '').cumsum()\n",
    "    return df[df.words != '']"
   ],
   "metadata": {
    "collapsed": false,
    "ExecuteTime": {
     "end_time": "2023-06-17T07:47:46.318438900Z",
     "start_time": "2023-06-17T07:47:46.316931100Z"
    }
   }
  },
  {
   "cell_type": "code",
   "execution_count": 3,
   "outputs": [],
   "source": [
    "# some NER_tag in NER dataset from HuggingFace are stored as number_id\n",
    "# convert number_id to corresponding NER tag\n",
    "def ner_id2tag(id):\n",
    "    id_map = {\n",
    "        0: 'O',\n",
    "        1: 'B-PER',\n",
    "        2: 'I-PER',\n",
    "        3: 'B-ORG',\n",
    "        4: 'I-ORG',\n",
    "        5: 'B-LOC',\n",
    "        6: 'I-LOC',\n",
    "    }\n",
    "\n",
    "    return id_map[id]"
   ],
   "metadata": {
    "collapsed": false,
    "ExecuteTime": {
     "end_time": "2023-06-17T07:47:46.321719200Z",
     "start_time": "2023-06-17T07:47:46.320209300Z"
    }
   }
  },
  {
   "cell_type": "code",
   "execution_count": 4,
   "outputs": [],
   "source": [
    "# read train & test dataset\n",
    "train_data = pd.read_csv('../Datasets/final_version_dataset/train_data.csv')\n",
    "test_data = txt_convert_conll_format('../Datasets/final_version_dataset/test_data.txt')"
   ],
   "metadata": {
    "collapsed": false,
    "ExecuteTime": {
     "end_time": "2023-06-17T07:47:46.868431Z",
     "start_time": "2023-06-17T07:47:46.322718800Z"
    }
   }
  },
  {
   "cell_type": "code",
   "execution_count": null,
   "outputs": [],
   "source": [
    "# count distinct sentences in train & test dataset\n",
    "data = [[train_data['sentence_id'].nunique(), test_data['sentence_id'].nunique()]]\n",
    "pd.DataFrame(data, columns=[\"Train\", \"Test\"])"
   ],
   "metadata": {
    "collapsed": false
   }
  },
  {
   "cell_type": "code",
   "execution_count": 6,
   "outputs": [],
   "source": [
    "# training arguments\n",
    "train_args = {\n",
    "    'reprocess_input_data': True,\n",
    "    'overwrite_output_dir': True,\n",
    "    'sliding_window': True,\n",
    "    'max_seq_length': 64,\n",
    "    'num_train_epochs': 15,\n",
    "    'train_batch_size': 32,\n",
    "    'fp16': True,\n",
    "    'output_dir': '/outputs/',\n",
    "}"
   ],
   "metadata": {
    "collapsed": false,
    "ExecuteTime": {
     "end_time": "2023-06-17T07:47:46.918159800Z",
     "start_time": "2023-06-17T07:47:46.902156500Z"
    }
   }
  },
  {
   "cell_type": "code",
   "execution_count": 7,
   "outputs": [],
   "source": [
    "# origin label only contains GPE, ORG, PER, MISC and O\n",
    "\n",
    "# custom_label = ['B-GPE','I-GPE','B-PER','I-PER','B-DATE','I-DATE','B-ORG','I-ORG','B-CARDINAL','I-CARDINAL','B-NORP','I-NORP','B-LOC','I-LOC','B-TIME','I-TIME','B-FAC','I-FAC','B-MONEY','I-MONEY','B-ORDINAL','I-ORDINAL','B-EVENT','I-EVENT','B-WFA','I-WFA','B-QUANTITY','I-QUANTITY','B-PERCENT','I-PERCENT','B-LANGUAGE','I-LANGUAGE','B-PRODUCT','I-PRODUCT','B-LAW','I-LAW','O']"
   ],
   "metadata": {
    "collapsed": false,
    "ExecuteTime": {
     "end_time": "2023-06-17T07:47:46.918159800Z",
     "start_time": "2023-06-17T07:47:46.903160600Z"
    }
   }
  },
  {
   "cell_type": "code",
   "execution_count": null,
   "outputs": [],
   "source": [
    "logging.basicConfig(level=logging.DEBUG)\n",
    "transformers_logger = logging.getLogger('transformers')\n",
    "transformers_logger.setLevel(logging.WARNING)\n",
    "\n",
    "# use the bert base chinese pre-trained model.\n",
    "tokenizer = AutoTokenizer.from_pretrained('bert-base-chinese')\n",
    "\n",
    "# NERModel(typeof model, pretrained_model or model, training arguments)\n",
    "model = NERModel('bert', '../model_output/checkpoint-35835-epoch-15')\n",
    "\n",
    "# train the model\n",
    "# model.train_model(train_data, output_dir='../model_output')\n",
    "\n",
    "# Evaluate the model in terms of accuracy score\n",
    "# precision, recall, f1 scores\n",
    "result, model_outputs, preds_list = model.eval_model(test_data)"
   ],
   "metadata": {
    "collapsed": false
   }
  },
  {
   "cell_type": "code",
   "execution_count": null,
   "outputs": [],
   "source": [
    "# string input, predict label\n",
    "strs = \"\"\"騎車在路上如果十多隻狗擋在路中央，相信沒有人敢騎過去。台南四鯤鯓上的一條道路出現十多隻狗群聚遊蕩，讓附近的居民沒人敢經過，狗群還會跑進周邊的社區裏，而養狗的婦人不讓動保處的人處理犬隻，也不關籠繫繩，真的讓居民很頭痛。民眾開車來到台南四鯤鯓，一間國小後方的這條道路，被路中央的景象嚇了一跳，擋了好幾十隻的狗，有的走來走去有的則躺在路中，車輛開過狗群的旁邊，躺在地上的狗完全不理會。不過就有民眾投訴，騎車經過狗群就會追上來，往往把騎士嚇得半死，有人還會摔車。周邊居民：「有很多人來向她抗議，因為要從這裡經過都被擋住，會怕那麼多狗，動保的來有跟他們反映，他們過來後說，你騎機車過去錄影一下，牠如果衝來你有錄影，他們就可以處理，結果沒有人敢這樣做。」而這群狗平常是由這名撿拾回收物的婦人飼養，也有愛狗人士會來餵食，因為有人會把狗丟過來，變成數量越來越多，曾有鄰居想架圍籬，把狗關在一起但是遭到拒絕。台南市鯤鯓里長陳金江：「動保處要處理她就是不讓人家處理，都和人家吵架，所以附近的居民很困擾，流浪狗都跑來裡面。」里長也很頭痛不知道怎麼處理，而成群的狗到處流竄，也真的是很危險的一件事。（封面圖／東森新聞）\"\"\"\n",
    "samples = strs.split('。')\n",
    "predictions, _ = model.predict(samples, split_on_space=False)\n",
    "for idx, sample in enumerate(samples):\n",
    "    print('{}: '.format(idx))\n",
    "    for word in predictions[idx]:\n",
    "        print('{}'.format(word), end=' ')\n",
    "    print()"
   ],
   "metadata": {
    "collapsed": false
   }
  },
  {
   "cell_type": "code",
   "execution_count": 11,
   "outputs": [],
   "source": [],
   "metadata": {
    "collapsed": false,
    "ExecuteTime": {
     "end_time": "2023-06-17T07:48:12.229096400Z",
     "start_time": "2023-06-17T07:48:12.227182700Z"
    }
   }
  }
 ],
 "metadata": {
  "kernelspec": {
   "display_name": "Python 3",
   "language": "python",
   "name": "python3"
  },
  "language_info": {
   "codemirror_mode": {
    "name": "ipython",
    "version": 2
   },
   "file_extension": ".py",
   "mimetype": "text/x-python",
   "name": "python",
   "nbconvert_exporter": "python",
   "pygments_lexer": "ipython2",
   "version": "2.7.6"
  }
 },
 "nbformat": 4,
 "nbformat_minor": 0
}
